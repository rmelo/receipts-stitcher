{
 "cells": [
  {
   "cell_type": "markdown",
   "metadata": {},
   "source": [
    "### Importing Depedencies"
   ]
  },
  {
   "cell_type": "code",
   "execution_count": 760,
   "metadata": {
    "scrolled": true
   },
   "outputs": [],
   "source": [
    "import re\n",
    "from math import ceil"
   ]
  },
  {
   "cell_type": "markdown",
   "metadata": {},
   "source": [
    "### Top Level Functions"
   ]
  },
  {
   "cell_type": "code",
   "execution_count": 551,
   "metadata": {},
   "outputs": [],
   "source": [
    "def fix_letters_into_numbers(str):\n",
    "    str = str.lower()\n",
    "    str = str.replace('o','0')\n",
    "    str = str.replace('i','1')\n",
    "    str = str.replace('l','1')\n",
    "    str = str.replace('b','8')\n",
    "    str = str.replace('s','5')\n",
    "    return str\n",
    "\n",
    "def remove_whitespaces(str):\n",
    "    return str.replace(' ','')\n",
    "\n",
    "def remove_doublespaces(str):\n",
    "    return str.replace('  ',' ')\n",
    "\n",
    "def remove_spaces_between_num_sep(str):\n",
    "    return re.sub(r'\\s?,\\s?', ',', str)\n",
    "    \n",
    "def jaccard_sim(str1, str2): \n",
    "    a = set(str1.split()) \n",
    "    b = set(str2.split())\n",
    "    c = a.intersection(b)\n",
    "    return float(len(c)) / (len(a) + len(b) - len(c))\n",
    "\n",
    "def apply_price_sim(str):\n",
    "    value = re.sub(r'\\d', 'd', str).lower().replace('dd','d')\n",
    "    score = jaccard_sim(value, 'd,d (d,d) = d,d')\n",
    "    return score"
   ]
  },
  {
   "cell_type": "markdown",
   "metadata": {},
   "source": [
    "### Loading Data"
   ]
  },
  {
   "cell_type": "code",
   "execution_count": 678,
   "metadata": {},
   "outputs": [],
   "source": [
    "file = open('./data.txt')\n",
    "original_data = file.readlines()\n",
    "\n",
    "sku_reg = re.compile(r'^(?P<seq>\\d{3})\\s+(?P<sku>\\d{13})\\s(?P<desc>.*)$')\n",
    "price_reg = re.compile(r'\\(\\d+,\\d+\\)')\n",
    "prices_reg = re.compile(r'\\d+,\\d+')"
   ]
  },
  {
   "cell_type": "markdown",
   "metadata": {},
   "source": [
    "### Data Preparation"
   ]
  },
  {
   "cell_type": "code",
   "execution_count": 613,
   "metadata": {},
   "outputs": [],
   "source": [
    "data_prep = map(lambda x: x.strip(), original_data)\n",
    "data_prep = map(remove_doublespaces, data_prep)\n",
    "data_prep = filter(None, data_prep)\n",
    "data_prep = map(remove_spaces_between_num_sep, data_prep)\n",
    "data_prep = list(data_prep)"
   ]
  },
  {
   "cell_type": "markdown",
   "metadata": {},
   "source": [
    "#### Get Skus\n",
    "\n",
    "Create a list of all skus match"
   ]
  },
  {
   "cell_type": "code",
   "execution_count": 630,
   "metadata": {},
   "outputs": [
    {
     "name": "stdout",
     "output_type": "stream",
     "text": [
      "{'seq': '001', 'sku': '7891172432019', 'desc': 'NEVE P. HIG NEUTRO F. DUPL', 'data': '001 7891172432019 NEVE P. HIG NEUTRO F. DUPL'}\n",
      "\n",
      "\n",
      "{'seq': '002', 'sku': '7898367980010', 'desc': 'EISENBAHN CERU UBT 26 79 (4,40) = 16,79', 'data': '002 7898367980010 EISENBAHN CERU UBT 26 79 (4,40) = 16,79'}\n",
      "\n",
      "\n",
      "{'seq': '003', 'sku': '7896051111764', 'desc': 'ITAMBE LEITE 2. LACT\"SEMI', 'data': '003 7896051111764 ITAMBE LEITE 2. LACT\"SEMI'}\n",
      "\n",
      "\n",
      "{'seq': '009', 'sku': '7896051128076', 'desc': 'ITAMBE LEITE Z. LACT DESN', 'data': '009 7896051128076 ITAMBE LEITE Z. LACT DESN'}\n",
      "\n",
      "\n",
      "{'seq': '005', 'sku': '7896051128076', 'desc': 'ITAMBE LEITE 2 LACT DESN', 'data': '005 7896051128076 ITAMBE LEITE 2 LACT DESN'}\n"
     ]
    }
   ],
   "source": [
    "def build_sku(item):\n",
    "    return {'seq': item['match'].group('seq'),\n",
    "            'sku': item['match'].group('sku'),\n",
    "            'desc': item['match'].group('desc'),\n",
    "            'data': item['data']\n",
    "           }\n",
    "\n",
    "sku_list = map(lambda x: {'match': sku_reg.match(x), 'data': x}, data_prep)\n",
    "sku_list = filter(lambda x: x['match'], sku_list )\n",
    "sku_list = list(map(build_sku, sku_list))\n",
    "\n",
    "print(*sku_list[:5] , sep='\\n\\n\\n')"
   ]
  },
  {
   "cell_type": "markdown",
   "metadata": {},
   "source": [
    "Clean data with prices"
   ]
  },
  {
   "cell_type": "markdown",
   "metadata": {},
   "source": [
    "##### Cost"
   ]
  },
  {
   "cell_type": "code",
   "execution_count": 860,
   "metadata": {},
   "outputs": [
    {
     "name": "stdout",
     "output_type": "stream",
     "text": [
      "1 \t 1 \t un \t [4.4, 16.79] \t 002 7898367980010 EISENBAHN CERU UBT 26 79 (4.40) = 16.79\n",
      "2 \t 1 \t un \t [3.89, 1.39, 3.89] \t 1 un X 3.89 (1.39) -< 3.89\n",
      "3 \t 1 \t un \t [4.19, 0.18, 4.19] \t 1 un X 4.19 (0.18) = 4.19\n",
      "4 \t 1 \t un \t [4.19, 0.18, 4.19] \t 1 un * 4.19 (0.18) = 4.19\n",
      "5 \t 1 \t un \t [4.19, 0.18, 4.19] \t un & 4.19 (0.18) = 4.19\n",
      "6 \t 1 \t un \t [4.19, 0.18, 4.19] \t I un X 4.19 (0.18) * 4.19\n",
      "7 \t 1 \t un \t [2.79, 0.32, 2.79] \t 1 un 2 2.79 (0.32) = 2.79\n",
      "8 \t 1 \t un \t [6.79, 1.51, 6.79] \t 1 un X 6.79 (1.51) = 6.79\n",
      "9 \t 1 \t un \t [6.79, 1.51, 6.79] \t 1 un X 6.79 (1.51) = 6.79\n",
      "10 \t 1 \t un \t [6.79, 1.51, 6.79] \t 1 un X 6.79 (1.51) = 6.79\n",
      "11 \t 1 \t un \t [1.69, 0.41, 1.69] \t 1 un X 1.69 (0.41) = 1.69\n",
      "12 \t 1 \t un \t [3.79, 1.34, 3.7] \t 1 un * 3.79 (1.34 ) = 3.7\n",
      "13 \t 1 \t un \t [3.79, 1.34, 3.79] \t 1 un X 3.79 (1.34) = 3.79\n",
      "14 \t 1 \t un \t [3.79, 1.34, 3.75] \t I un X 3.79 (1.34) = 3.75\n",
      "15 \t 1 \t un \t [3.79, 1.34, 3.79] \t 1 un X 3.79 (1.34 ) = 3.79\n",
      "16 \t 1 \t un \t [3.39, 1.21, 3.39] \t un X 3.39 (1.21) = 3.39\n",
      "17 \t 1 \t un \t [3.39, 1.21, 3.35] \t 1 un X 3.39 (1.21) = 3.35\n",
      "18 \t 1 \t un \t [24.79, 2.78, 24.75] \t NOTDun X 24.79 (2.78) =24.75\n",
      "19 \t 1 \t un \t [1.29, 0.14, 1.2] \t AppE Un & 1.29 (0.14) = 1.20\n",
      "20 \t 1 \t un \t [1.29, 0.14, 1.25] \t 1 un X 1.29 (0.14) = 1.25\n",
      "21 \t 1 \t un \t [6.75, 0.75, 6.75] \t 1 un X 6.75 (0.75) = 6.75\n",
      "22 \t 1 \t un \t [13.69, 3.03, 13.69] \t 1 un X 13.69 (3.03) = 13.69\n",
      "23 \t 1 \t un \t [2.89, 0.32, 2.85] \t 1 un X 2.89 (0.32) = 2.85\n",
      "24 \t 1 \t un \t [2.89, 0.95, 2.89] \t 1 un X 2.89 (0.95) = 2.89\n",
      "25 \t 1 \t un \t [2.09, 0.24, 2.09] \t 1 un & 2.09 (0.24) = 2.09\n",
      "26 \t 1 \t un \t [2.09, 0.24, 2.09] \t 1 un X 2.09 (0.24) = 2.09\n",
      "27 \t 1 \t un \t [2.09, 0.24, 2.09] \t 1 un X 2.09 (0.24) = 2.09\n",
      "28 \t 1 \t un \t [2.09, 0.24, 2.09] \t - un 2 2.09 (0.24) = 2.09\n",
      "29 \t 1 \t un \t [2.09, 0.24, 2.09] \t I un & 2.09 (0.24) = 2.09\n",
      "30 \t 1 \t un \t [2.09, 0.24, 2.09] \t 1 un % 2.09 (0.24) = 2.09\n",
      "31 \t 1 \t un \t [2.09, 0.24, 2.05] \t I un X 2.09 (0.24) = 2.05\n",
      "32 \t 1 \t un \t [2.09, 0.24, 2.09] \t 1 un % 2.09 (0.24) = 2.09\n",
      "33 \t 1 \t kg \t [0.73, 2.49, 0.41, 1.82] \t 033 0000000007474 CHUCHU KG 0.730 kg X 2.49 (0.41) = 1.82\n",
      "34 \t 1 \t kg \t [0.48, 6.99, 0.74, 3.36] \t 0.480 kg X 6.99 (0.74) = 3.36\n",
      "35 \t 1 \t un \t [8.89, 0.99, 8.89] \t 1 un X 8.89 (0.99) = 8.89\n",
      "36 \t 1 \t un \t [1.69, 0.19, 1.69] \t 1 un X 1.69 (0.19) = 1.69\n",
      "37 \t 1 \t un \t [1.69, 0.19, 1.69] \t 1 un X 1.69 (0.19) = 1.69\n",
      "38 \t 1 \t kg \t [1.78, 0.48, 2.18] \t 1 225 kg X 1.78 (0.48) = 2.18\n",
      "39 \t 1 \t un \t [5.99, 0.67, 5.95] \t 1 un X 5.99 (0.67) = 5.95\n",
      "40 \t 1 \t un \t [1.48, 0.33, 1.48] \t 1 un X 1.48 (0.33) = 1.48\n",
      "41 \t 1 \t un \t [10.99, 1.23, 10.95] \t 1 un X 10.99 (1.23) = 10.95\n"
     ]
    }
   ],
   "source": [
    "def find_units(item):\n",
    "    units_reg = re.compile(r'\\sun|kg\\s')\n",
    "    units = list(map(lambda x: x.strip(), units_reg.findall(item['data'])))\n",
    "    item.update({'unit': 'un' if len(units) == 0 else units[0]})\n",
    "    return item\n",
    "\n",
    "def find_costs(item):\n",
    "        reg = re.compile(r'\\d+\\.\\d+')\n",
    "        costs = list(map(float, reg.findall(item['data'])))\n",
    "        kg = item['unit'] == 'kg'\n",
    "        total = costs[-1]\n",
    "        unit_price = costs[-1] if len(costs) or kg < 3 else costs[0]\n",
    "        qtd = ceil(total / unit_price)\n",
    "        item.update({'costs' : costs, 'qtd': qtd})\n",
    "        return item\n",
    "    \n",
    "def fix_cost_separator(item):\n",
    "    new_val = re.sub(r'(\\d+),(\\d+)', '\\g<1>.\\g<2>', item['data'])\n",
    "    item['data'] = new_val\n",
    "    return item\n",
    "\n",
    "\n",
    "tokenize = lambda x: {'token' : remove_whitespaces(x), 'data' : x}\n",
    "\n",
    "filter_prices = lambda x : price_reg.search(x['token'])\n",
    "\n",
    "remove_kg = lambda x : x['unit'] != 'kg'\n",
    "\n",
    "list_cost = map(tokenize , data_prep)\n",
    "list_cost = map(find_units, list_cost)\n",
    "# list_cost = filter(remove_kg, list_cost)\n",
    "list_cost = filter(filter_prices, list_cost)\n",
    "list_cost = map(fix_cost_separator, list_cost)\n",
    "list_cost = map(find_costs, list_cost)\n",
    "\n",
    "# list_cost = map(find_costs, list_cost)\n",
    "\n",
    "seq = 0\n",
    "for i in list_cost:\n",
    "    seq = seq + 1\n",
    "    print(seq, '\\t', i['qtd'],'\\t', i['unit'], '\\t', i['costs'], '\\t', i['data'])\n",
    "\n",
    "# print(*[x['data'] for x in list_cost], sep='\\n')\n"
   ]
  },
  {
   "cell_type": "markdown",
   "metadata": {},
   "source": [
    "### Find CNPJ"
   ]
  },
  {
   "cell_type": "code",
   "execution_count": 155,
   "metadata": {},
   "outputs": [
    {
     "name": "stdout",
     "output_type": "stream",
     "text": [
      "{'score': 0, 'data': 'Supermercado Mirassol Ltda'}\n",
      "{'score': 0, 'data': 'R. Joao Mirassol, 509 - VL. PESTANA - OSASCO - SP'}\n",
      "{'score': 0, 'data': 'CNPJ:60. 708.245/0001-08 TE :492195864111'}\n",
      "{'score': 0, 'data': 'Extrato No. 63772'}\n",
      "{'score': 0, 'data': 'CUPOM FISCAL ELETRONICO - SAT'}\n",
      "{'score': 0, 'data': 'CPF/CNPJ do Consumidor : 333.599.318-74'}\n",
      "{'score': 5, 'data': '# ICOD IDESC IQTD JUN IVL UN RS ICUL TR R$)* IVL ITEM RS'}\n",
      "{'score': 0, 'data': '001 7891172432019 NEVE P. HIG NEUTRO F. DUPL'}\n",
      "{'score': 15, 'data': '002 7898367980010 EISENBAHN CERU UBT 26 79 (4,40) = 16,79'}\n",
      "{'score': 71, 'data': '1 un X 3,89 (1,39) -< 3,89'}\n",
      "{'score': 0, 'data': '003 7896051111764 ITAMBE LEITE 2. LACT\"SEMI'}\n",
      "{'score': 62, 'data': '1 un X 4,19 (0, 18) = 4,19'}\n",
      "{'score': 0, 'data': '009 7896051128076 ITAMBE LEITE Z. LACT DESN'}\n",
      "{'score': 55, 'data': '1 un * 4, 19 (0,18) = 4,19'}\n",
      "{'score': 8, 'data': '005 7896051128076 ITAMBE LEITE 2 LACT DESN'}\n",
      "{'score': 0, 'data': '006 7896051128076 ITAMBE LEITE Z.LACT DESN'}\n",
      "{'score': 44, 'data': 'un & 4,19 (0,18) = 4, 19'}\n",
      "{'score': 30, 'data': 'I un X 4,19 (0, 18) * 4,19'}\n",
      "{'score': 0, 'data': '007 7891000102626 NESTLE AVEIA FLOCOS FIND'}\n",
      "{'score': 0, 'data': \"008 7896475900012 SAD MIGUEL VELA VOTIVA'S\"}\n",
      "{'score': 83, 'data': '1 un 2 2,79 (0,32) = 2,79'}\n",
      "{'score': 100, 'data': '1 un X 6,79 (1,51) = 6,79'}\n",
      "{'score': 0, 'data': \"009 7896475900012 SAD MIGUEL VELA VOTIVA'S\"}\n",
      "{'score': 100, 'data': '1 un X 6,79 (1,51) = 6,79'}\n",
      "{'score': 0, 'data': \"010 7896475900012 SAD MIGUEL VELA VOTIVA'S\"}\n",
      "{'score': 100, 'data': '1 un X 6,79 (1,51) = 6,79'}\n",
      "{'score': 0, 'data': '011 7896098900239 YPE DETERGENT COCO 500ML'}\n",
      "{'score': 100, 'data': '1 un X 1,69 (0,41) = 1,69'}\n",
      "{'score': 0, 'data': '012 7897395007089 CACILDIS CERVEJA LONG NE'}\n",
      "{'score': 36, 'data': '1 un * 3,79 (1, 34 ) = 3, 7'}\n",
      "{'score': 0, 'data': '013 7897395007089 CACIIDIS CERVEJA LONG NE'}\n",
      "{'score': 40, 'data': '1 un X 3, 79 (1, 34) = 3, 79'}\n",
      "{'score': 0, 'data': '014 7897395007089 CACIIDIS CERVEJA LONG NE'}\n",
      "{'score': 62, 'data': 'I un X 3.79 (1,34) = 3,75'}\n",
      "{'score': 0, 'data': '015 7897395007089 CACILDIS CERVEJA LONG NE'}\n",
      "{'score': 0, 'data': 'in16 7897395010119 ITAIPAVA CERVEJA PREMIUM'}\n",
      "{'score': 40, 'data': '1 un X 3, 79 (1, 34 ) = 3, 79'}\n",
      "{'score': 0, 'data': '017 7897395010119 ITAIPAVA CERVEJA PREMIUM'}\n",
      "{'score': 83, 'data': 'un X 3,39 (1,21) = 3,39'}\n",
      "{'score': 0, 'data': '018 7898596080581 COPRA OLEO DE COCO S/SAB'}\n",
      "{'score': 100, 'data': '1 un X 3,39 (1,21) = 3,35'}\n",
      "{'score': 20, 'data': 'NOTDun X 24, 79 (2,78) =24, 75'}\n",
      "{'score': 0, 'data': '019 7896048284631 VITALIA VINAGRE DE ALCOO'}\n",
      "{'score': 27, 'data': 'AppE Un & 1.29 (0, 14) = 1,20'}\n",
      "{'score': 0, 'data': '020 7896048284631 VITALIA VINAGRE DE ALCOO'}\n",
      "{'score': 0, 'data': '021 7896000555359 MAGUARY SUCO DE MARACUJA'}\n",
      "{'score': 85, 'data': '1 un X 1 ,29 (0,14) = 1,25'}\n",
      "{'score': 62, 'data': '1 un X 6,75 (0, 75) = 6,75'}\n",
      "{'score': 0, 'data': '022 7896083800254 SUPER CANDIDA AGUA SANIT'}\n",
      "{'score': 71, 'data': '1 un X 13,69 (3,03) = 13,69'}\n",
      "{'score': 0, 'data': '023 7891025116561 BONAFONT AGUR C/GAS TANG'}\n",
      "{'score': 100, 'data': '1 un X 2,89 (0,32) = 2,85'}\n",
      "{'score': 0, 'data': '024 7891025114703 BONAFONT AGUA C/GAS ABA'}\n",
      "{'score': 100, 'data': '1 un X 2,89 (0,95) = 2,89'}\n",
      "{'score': 9, 'data': '025 7891999430205 VIGOR IDGURTE INTEGRAL D'}\n",
      "{'score': 71, 'data': '1 un & 2,09 (0,24) = 2,09'}\n",
      "{'score': 0, 'data': '026 7891999010704 VIGOR ZERO LACTOSE DESNA'}\n",
      "{'score': 100, 'data': '1 un X 2,09 (0,24) = 2,09'}\n",
      "{'score': 0, 'data': '027 7891999010704 VIGOR ZERO LACTOSE DESNA'}\n",
      "{'score': 100, 'data': '1 un X 2,09 (0,24) = 2,09'}\n",
      "{'score': 9, 'data': '028 7891999430205 VIGOR IOGURTE INTEGRAL D'}\n",
      "{'score': 71, 'data': '- un 2 2,09 (0,24) = 2,09'}\n",
      "{'score': 0, 'data': \"029 7891999430205 VIGOR TOGURTE INTEGRAL 'D\"}\n",
      "{'score': 50, 'data': 'I un & 2,09 (0,24) = 2,09'}\n",
      "{'score': 9, 'data': '030 7891999430205 VIGOR TOGURTE INTEGRAL D'}\n",
      "{'score': 71, 'data': '1 un % 2,09 (0,24) = 2,09'}\n",
      "{'score': 0, 'data': '031 7891999010704 VIGOR ZERO LACTOSE DESNA'}\n",
      "{'score': 71, 'data': 'I un X 2,09 (0,24) = 2,05'}\n",
      "{'score': 0, 'data': 'J36 1891999010/04 VIGOR ZERO LACTOSE DESNA'}\n",
      "{'score': 71, 'data': '1 un % 2,09 (0,24) = 2,09'}\n",
      "{'score': 36, 'data': '033 0000000007474 CHUCHU KG 0.730 kg X 2,49 (0,41) = 1,82'}\n",
      "{'score': 0, 'data': '034 0000000008242 CAQUI RAMA FORTE KG'}\n",
      "{'score': 30, 'data': '0.480 kg X 6,99 (0, 74) = 3,36'}\n",
      "{'score': 0, 'data': '035 7896004000534 KELLOGGS CORN FLAKES 20'}\n",
      "{'score': 100, 'data': '1 un X 8,89 (0,99) = 8,89'}\n",
      "{'score': 0, 'data': '036 7891079012963 NISSIN LAMEN (COSTELA 856'}\n",
      "{'score': 0, 'data': '037 7891079012963 NISSIN LAMEN COSTELA 856'}\n",
      "{'score': 100, 'data': '1 un X 1,69 (0,19) = 1,69'}\n",
      "{'score': 0, 'data': '038 0000000007252 BANANA NANICA KG'}\n",
      "{'score': 100, 'data': '1 un X 1,69 (0,19) = 1,69'}\n",
      "{'score': 62, 'data': '1 225 kg X 1,78 (0,48) = 2,18'}\n",
      "{'score': 0, 'data': '039 7896304000012 MACA TURMA DA MONICA 1KG'}\n",
      "{'score': 100, 'data': '1 un X 5,99 (0,67) = 5,95'}\n",
      "{'score': 0, 'data': '040 7898903423018 SPK ALFACE HIDROPONICO U'}\n",
      "{'score': 9, 'data': '041 7898944011175 DVDS EXPRESSUS C/30 UN'}\n",
      "{'score': 75, 'data': '1 un X 1,48 (0,33) = 1, 48'}\n",
      "{'score': 71, 'data': '1 un X 10,99 (1,23) = 10,95'}\n",
      "{'score': 0, 'data': 'TOTAL R$'}\n",
      "{'score': 0, 'data': 'Lartao de Creditou'}\n",
      "{'score': 0, 'data': '192, 63'}\n",
      "{'score': 0, 'data': '192, 63'}\n",
      "{'score': 0, 'data': 'TROCO :'}\n",
      "{'score': 0, 'data': 'U,63'}\n",
      "{'score': 16, 'data': '0,00'}\n",
      "{'score': 0, 'data': 'Comete crime quem sonega'}\n",
      "{'score': 0, 'data': 'OBSERVACGES DO CONTRIBUINTE'}\n",
      "{'score': 0, 'data': 'CH4 OP : 124-THAINA CAROLINE V : 0413R253 EXTR: 63772'}\n",
      "{'score': 0, 'data': 'valor aproximado dos tributes dos itens'}\n",
      "{'score': 0, 'data': 'informacao dos Tributos Totais Incidentes'}\n",
      "{'score': 0, 'data': '(Lei Federal 12.741/2012)'}\n",
      "{'score': 0, 'data': 'Trib. aprox.R$: federal :11,54 estadual :23,27'}\n",
      "{'score': 0, 'data': 'Fonte: IBP1/empresometro.co'}\n",
      "{'score': 0, 'data': 'DI1D7F'}\n",
      "{'score': 0, 'data': 'SAT No. 000590193'}\n",
      "{'score': 0, 'data': '03/07/2019 - 18:09:14'}\n",
      "{'score': 0, 'data': '3519 0760 7082 4500 0108 5900 0590 1930 6377 2394 4032'}\n"
     ]
    }
   ],
   "source": [
    "\n",
    "\n",
    "\n",
    "prices_list = list(map(lambda x: {'score': int(apply_price_similarity(x, 'd un x d,dd (d,dd) = d,dd') * 100), 'data': x}, str_lines))\n",
    "\n",
    "print_list(prices_list)\n",
    "\n",
    "# filtered_cnpj = filter_list_by_regex(r'CNPJ', str_lines)\n",
    "# filtered_cnpj = map_list(remove_whitespaces, str_lines)\n",
    "# filtered_cnpj = map_list(lambda x: x.replace(',','.'), filtered_cnpj)\n",
    "\n",
    "# cnpj_store = filtered_cnpj[0]\n",
    "\n",
    "# cnpj_store = re.search(r'CNPJ:([\\d.-/]*)', cnpj_store)\n",
    "\n",
    "# cnpj_store = cnpj_store[1] if len(cnpj_store.groups()) == 1 else None\n",
    "\n",
    "# print(filtered_cnpj)"
   ]
  },
  {
   "cell_type": "code",
   "execution_count": null,
   "metadata": {},
   "outputs": [],
   "source": []
  }
 ],
 "metadata": {
  "kernelspec": {
   "display_name": "Python 3",
   "language": "python",
   "name": "python3"
  },
  "language_info": {
   "codemirror_mode": {
    "name": "ipython",
    "version": 3
   },
   "file_extension": ".py",
   "mimetype": "text/x-python",
   "name": "python",
   "nbconvert_exporter": "python",
   "pygments_lexer": "ipython3",
   "version": "3.7.3"
  }
 },
 "nbformat": 4,
 "nbformat_minor": 2
}
